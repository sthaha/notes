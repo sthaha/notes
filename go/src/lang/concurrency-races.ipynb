{
 "cells": [
  {
   "cell_type": "markdown",
   "metadata": {},
   "source": [
    "# Concurrency and races"
   ]
  },
  {
   "cell_type": "markdown",
   "metadata": {},
   "source": [
    "Below is an example of code with data races. Data Races occur when there is at least one read and another write at the same location. Consider the following example"
   ]
  },
  {
   "cell_type": "code",
   "execution_count": null,
   "metadata": {},
   "outputs": [],
   "source": [
    "func dataRaceExample() {\n",
    "    var count = 0\n",
    "    \n",
    "    func inc() {\n",
    "        if count == 0 {\n",
    "            count++\n",
    "        }\n",
    "    }\n",
    "    \n",
    "    func main() {\n",
    "        go inc()\n",
    "        go inc()\n",
    "        time.Sleep(1 * time.Millisecond)\n",
    "    }\n",
    "    main()\n",
    "}\n",
    "\n",
    "dataRaceExample()\n"
   ]
  },
  {
   "cell_type": "markdown",
   "metadata": {},
   "source": [
    "Data race is pretty obvious at `count++` since multiple user-threads read and write to it simultaenously\n",
    "An improved version may look like this. Look under `concurrency/` directory for `go` code"
   ]
  },
  {
   "cell_type": "code",
   "execution_count": null,
   "metadata": {},
   "outputs": [],
   "source": [
    "import (\n",
    "\t\"context\"\n",
    "\t\"fmt\"\n",
    "\t\"sync\"\n",
    "\t\"time\"\n",
    ")\n",
    "\n",
    "var (\n",
    "\tcount = 0\n",
    "\twg    sync.WaitGroup\n",
    "\tm     = sync.Mutex{}\n",
    ")\n",
    "\n",
    "func incrementCount(ctx context.Context, who string) {\n",
    "\tdefer wg.Done()\n",
    "\n",
    "\tinc := 0\n",
    "\tfor {\n",
    "\t\tselect {\n",
    "\t\tcase <-ctx.Done():\n",
    "\t\t\tfmt.Println(who, inc, \" ... exiting\")\n",
    "\t\t\treturn\n",
    "\t\tcase <-time.After(400 * time.Millisecond):\n",
    "\t\t\tinc += 1\n",
    "\t\t\tm.Lock()    // <<< sync access to data\n",
    "\t\t\tfmt.Println(who, inc, \":   now  :\", count)\n",
    "\t\t\tcount += 1\n",
    "\t\t\tfmt.Println(who, inc, \":   inc  :\", count)\n",
    "\t\t\tm.Unlock()  // <<< end of sync block\n",
    "\t\t}\n",
    "\t}\n",
    "}\n",
    "\n",
    "func cancel() {\n",
    "\tfmt.Println(\" .... cancel\")\n",
    "}\n",
    "\n",
    "func main() {\n",
    "\n",
    "\tctx, cancel := context.WithCancel(context.Background())\n",
    "\n",
    "\twg.Add(3)\n",
    "\tgo incrementCount(ctx, \"A\")\n",
    "\tgo incrementCount(ctx, \"                     B\")\n",
    "\tgo incrementCount(ctx, \"                                           C\")\n",
    "\n",
    "\ttime.AfterFunc(3*time.Second, cancel)\n",
    "\twg.Wait()\n",
    "\n",
    "\tfmt.Println(\"  ... end: \", count)   \n",
    "}\n",
    "\n",
    "main()"
   ]
  },
  {
   "cell_type": "markdown",
   "metadata": {},
   "source": [
    "The program above solves the data race and by synchronising access to `count` using mutexes. Also note how `WaitGroup` is used to wait for the `goroutines` to be done.\n",
    "The way this works is that `cancel` is called after 3 seconds then the timer (`func main:` `time.AfterFunc(..)`) times out. This send a signal on `ctx.Done()` and each go routine exits which results in a deferred call to `wg.Done()`. `wg.Wait()` ensures that all go-routines' `Done` is called before continuing to print `count`"
   ]
  }
 ],
 "metadata": {
  "kernelspec": {
   "display_name": "Go",
   "language": "go",
   "name": "gophernotes"
  },
  "language_info": {
   "codemirror_mode": "",
   "file_extension": ".go",
   "mimetype": "",
   "name": "go",
   "nbconvert_exporter": "",
   "pygments_lexer": "",
   "version": "go1.9.3"
  }
 },
 "nbformat": 4,
 "nbformat_minor": 2
}
