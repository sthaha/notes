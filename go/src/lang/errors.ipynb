{
 "cells": [
  {
   "cell_type": "markdown",
   "metadata": {},
   "source": [
    "# Errors\n",
    "\n",
    "**NOTE:** Doesn't run properly in this notebook, so have a look under `error/` directory\n"
   ]
  },
  {
   "cell_type": "markdown",
   "metadata": {},
   "source": [
    "## New errors\n",
    "\n",
    "Create new `Errors` using `errors.New`"
   ]
  },
  {
   "cell_type": "code",
   "execution_count": null,
   "metadata": {},
   "outputs": [],
   "source": [
    "import (\n",
    "    \"errors\"\n",
    "    \"fmt\"\n",
    ")\n",
    "\n",
    "var err error\n",
    "\n",
    "err = errors.New(\"A fatal error\")\n",
    "fmt.Printf(\"Error:\", err);"
   ]
  },
  {
   "cell_type": "markdown",
   "metadata": {},
   "source": [
    "### print as string using %s"
   ]
  },
  {
   "cell_type": "code",
   "execution_count": null,
   "metadata": {},
   "outputs": [],
   "source": [
    "fmt.Printf(\"Error: %s \\n\", err);"
   ]
  },
  {
   "cell_type": "markdown",
   "metadata": {},
   "source": [
    "## Use `fmt.Errorf`"
   ]
  },
  {
   "cell_type": "code",
   "execution_count": null,
   "metadata": {},
   "outputs": [],
   "source": [
    "err = fmt.Errorf(\"This is new Error with code %d - result %f\", 127, 3.14)\n",
    "fmt.Printf(\"Error: %s \\n\", err);"
   ]
  },
  {
   "cell_type": "markdown",
   "metadata": {},
   "source": [
    "## Named Errors"
   ]
  },
  {
   "cell_type": "code",
   "execution_count": null,
   "metadata": {},
   "outputs": [],
   "source": [
    "const (\n",
    "    FailedToStart = errors.New(\"Failed to start\")\n",
    "    BadInput = errors.New(\"Bad Input\")\n",
    ")\n",
    "\n",
    "err = FailedToStart\n",
    "if err == FailedToStart {\n",
    "    fmt.Println(\"Failed to start\")\n",
    "}\n"
   ]
  },
  {
   "cell_type": "markdown",
   "metadata": {},
   "source": [
    "## Custom Errors\n",
    "\n",
    "`Error` is an interface with the method `Error() string`. So lets create a custom error. \n",
    "\n",
    "**NOTE**: This works in actual go"
   ]
  },
  {
   "cell_type": "code",
   "execution_count": null,
   "metadata": {},
   "outputs": [],
   "source": [
    "\n",
    "type MyCustomError struct {\n",
    "\tcode int\n",
    "}\n",
    "\n",
    "func (e *MyCustomError) Error() string {\n",
    "\treturn fmt.Sprintf(\"Bad code %d\", e.code)\n",
    "}\n",
    "\n",
    "type argError struct {\n",
    "\targ  int\n",
    "\tprob string\n",
    "}\n",
    "\n",
    "func (e *argError) Error() string {\n",
    "\treturn fmt.Sprintf(\"%d - %s\", e.arg, e.prob)\n",
    "}\n",
    "\n",
    "func f2(arg int) (int, error) {\n",
    "\tif arg == 42 {\n",
    "\t\treturn -1, &argError{arg, \"can't work with it\"}\n",
    "\t}\n",
    "\treturn arg + 3, nil\n",
    "}\n",
    "\n",
    "func main() {\n",
    "\n",
    "\tmyErr := &MyCustomError{128}\n",
    "\tfmt.Println(\"My custom error:\", myErr)\n",
    "\n",
    "\tif _, err2 := f2(42); err2 != nil {\n",
    "\t\tfmt.Println(\"My custom error:\", err2)\n",
    "\t}\n",
    "}\n",
    "\n",
    "main()"
   ]
  }
 ],
 "metadata": {
  "kernelspec": {
   "display_name": "Go",
   "language": "go",
   "name": "gophernotes"
  },
  "language_info": {
   "codemirror_mode": "",
   "file_extension": ".go",
   "mimetype": "",
   "name": "go",
   "nbconvert_exporter": "",
   "pygments_lexer": "",
   "version": "go1.9.3"
  }
 },
 "nbformat": 4,
 "nbformat_minor": 2
}
