{
 "cells": [
  {
   "cell_type": "markdown",
   "metadata": {},
   "source": [
    "# Testing and Coverage"
   ]
  },
  {
   "cell_type": "markdown",
   "metadata": {},
   "source": [
    "### File naming convention\n",
    "\n",
    "go test files use `<foobar>_test.go` naming convention and resides alongside the source. `go build` is smart enough to ignore the tests"
   ]
  },
  {
   "cell_type": "code",
   "execution_count": 3,
   "metadata": {},
   "outputs": [
    {
     "ename": "ERROR",
     "evalue": "unimplemented declaration: package packagename",
     "output_type": "error",
     "traceback": [
      "unimplemented declaration: package packagename"
     ]
    }
   ],
   "source": [
    "// Simple example\n",
    "package packagename\n",
    "\n",
    "import \"testing\"\n",
    "\n",
    "\n",
    "func TestFunctionWorks(t *testing.T) {\n",
    "    var result = RunFoobar(inputs)\n",
    "    if result != expected {\n",
    "        t.Fatalf(\"%v expected but got %v\", expected, result)\n",
    "    }\n",
    "}\n"
   ]
  },
  {
   "cell_type": "markdown",
   "metadata": {},
   "source": [
    "## Coverage\n",
    "\n",
    "Use `go test --cover path/to/package` to see test coverage info \n",
    "\n",
    "e.g. \n",
    "\n",
    "```shell\n",
    "▲ src/lang/packages go test --cover playground/packages/simplifier \n",
    "ok      lang/packages/simplifier  0.001s  coverage: 50.0% of statements\n",
    "```"
   ]
  },
  {
   "cell_type": "markdown",
   "metadata": {},
   "source": [
    "### Generate coverage output\n",
    "\n",
    "`go test --coverprofile=coverage.out go/import/path/to/package` generates coverage output which can be used with `go tool cover`\n",
    "\n",
    "e.g. \n",
    "```shell\n",
    " ▲ src/lang/packages go test --coverprofile=simplifier-cover.out playground/packages/simplifier\n",
    "ok      lang/packages/simplifier  0.001s  coverage: 50.0% of statements\n",
    "\n",
    " ▲ src/lang/packages ls\n",
    "main.go  README.md  shouter  simplifier  ***simplifier-cover.out***\n",
    "\n",
    "\n",
    " △ src/lang/packages go tool cover -func=simplifier-cover.out\n",
    "lang/packages/simplifier/simplifier.go:10:        Simplify                100.0%\n",
    "lang/packages/simplifier/simplifier.go:14:        SimplifyUnTested        0.0%\n",
    "total:                                                  (statements)            50.0%\n",
    "\n",
    "```"
   ]
  },
  {
   "cell_type": "markdown",
   "metadata": {},
   "source": [
    "### Browse coverage output \n",
    "\n",
    "` go tool cover --html=coverage.out`"
   ]
  }
 ],
 "metadata": {
  "kernelspec": {
   "display_name": "Go",
   "language": "go",
   "name": "gophernotes"
  },
  "language_info": {
   "codemirror_mode": "",
   "file_extension": ".go",
   "mimetype": "",
   "name": "go",
   "nbconvert_exporter": "",
   "pygments_lexer": "",
   "version": "go1.9.3"
  }
 },
 "nbformat": 4,
 "nbformat_minor": 2
}
