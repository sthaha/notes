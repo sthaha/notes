{
 "cells": [
  {
   "cell_type": "markdown",
   "metadata": {},
   "source": [
    "# Errors"
   ]
  },
  {
   "cell_type": "markdown",
   "metadata": {},
   "source": [
    "## New errors\n",
    "\n",
    "Create new `Errors` using `errors.New`"
   ]
  },
  {
   "cell_type": "code",
   "execution_count": 2,
   "metadata": {},
   "outputs": [
    {
     "name": "stdout",
     "output_type": "stream",
     "text": [
      "Error:%!(EXTRA *errors.errorString=A fatal error)"
     ]
    },
    {
     "data": {
      "text/plain": [
       "49 <nil>"
      ]
     },
     "execution_count": 2,
     "metadata": {},
     "output_type": "execute_result"
    }
   ],
   "source": [
    "import (\n",
    "    \"errors\"\n",
    "    \"fmt\"\n",
    ")\n",
    "\n",
    "var err error\n",
    "\n",
    "err = errors.New(\"A fatal error\")\n",
    "fmt.Printf(\"Error:\", err);"
   ]
  },
  {
   "cell_type": "markdown",
   "metadata": {},
   "source": [
    "### print as string using %s"
   ]
  },
  {
   "cell_type": "code",
   "execution_count": 3,
   "metadata": {},
   "outputs": [
    {
     "name": "stdout",
     "output_type": "stream",
     "text": [
      "Error: A fatal error \n"
     ]
    },
    {
     "data": {
      "text/plain": [
       "22 <nil>"
      ]
     },
     "execution_count": 3,
     "metadata": {},
     "output_type": "execute_result"
    }
   ],
   "source": [
    "fmt.Printf(\"Error: %s \\n\", err);"
   ]
  },
  {
   "cell_type": "markdown",
   "metadata": {},
   "source": [
    "## Use `fmt.Errorf`"
   ]
  },
  {
   "cell_type": "code",
   "execution_count": 5,
   "metadata": {},
   "outputs": [
    {
     "name": "stdout",
     "output_type": "stream",
     "text": [
      "Error: This is new Error with code 127 - result 3.140000 \n"
     ]
    },
    {
     "data": {
      "text/plain": [
       "58 <nil>"
      ]
     },
     "execution_count": 5,
     "metadata": {},
     "output_type": "execute_result"
    }
   ],
   "source": [
    "err = fmt.Errorf(\"This is new Error with code %d - result %f\", 127, 3.14)\n",
    "fmt.Printf(\"Error: %s \\n\", err);"
   ]
  },
  {
   "cell_type": "markdown",
   "metadata": {},
   "source": [
    "## Named Errors"
   ]
  },
  {
   "cell_type": "code",
   "execution_count": 7,
   "metadata": {},
   "outputs": [
    {
     "name": "stdout",
     "output_type": "stream",
     "text": [
      "Failed to start\n"
     ]
    }
   ],
   "source": [
    "const (\n",
    "    FailedToStart = errors.New(\"Failed to start\")\n",
    "    BadInput = errors.New(\"Bad Input\")\n",
    ")\n",
    "\n",
    "err = FailedToStart\n",
    "if err == FailedToStart {\n",
    "    fmt.Println(\"Failed to start\")\n",
    "}\n"
   ]
  },
  {
   "cell_type": "markdown",
   "metadata": {},
   "source": [
    "## Custom Errors\n",
    "\n",
    "`Error` is an interface with the method `Error() string`. So lets create a custom error."
   ]
  },
  {
   "cell_type": "code",
   "execution_count": 25,
   "metadata": {},
   "outputs": [
    {
     "name": "stdout",
     "output_type": "stream",
     "text": [
      "My custom error: &{128}\n"
     ]
    },
    {
     "ename": "ERROR",
     "evalue": "reflect.Value.Convert: value of type *struct { Arg int; Prob string } cannot be converted to type error",
     "output_type": "error",
     "traceback": [
      "reflect.Value.Convert: value of type *struct { Arg int; Prob string } cannot be converted to type error"
     ]
    }
   ],
   "source": [
    "type MyCustomError struct {\n",
    "    code int\n",
    "}\n",
    "\n",
    "func (e *MyCustomError) Error() string {\n",
    "    return fmt.Sprintf(\"Bad code %d\", e.code)\n",
    "}\n",
    "\n",
    "\n",
    "type argError struct {\n",
    "    arg  int\n",
    "    prob string\n",
    "}\n",
    "func (e *argError) Error() string {\n",
    "    return fmt.Sprintf(\"%d - %s\", e.arg, e.prob)\n",
    "}\n",
    "func f2(arg int) (int, error) {\n",
    "    if arg == 42 {\n",
    "        return -1, &argError{arg, \"can't work with it\"}\n",
    "    }\n",
    "    return arg + 3, nil\n",
    "}\n",
    "\n",
    "\n",
    "\n",
    "myErr := &MyCustomError{128}\n",
    "fmt.Println(\"My custom error:\", myErr)\n",
    "\n",
    "if v, err2 := f2(42); err2 != nil {\n",
    "    fmt.Println(\"My custom error:\", err2)    \n",
    "}\n",
    "\n"
   ]
  }
 ],
 "metadata": {
  "kernelspec": {
   "display_name": "Go",
   "language": "go",
   "name": "gophernotes"
  },
  "language_info": {
   "codemirror_mode": "",
   "file_extension": ".go",
   "mimetype": "",
   "name": "go",
   "nbconvert_exporter": "",
   "pygments_lexer": "",
   "version": "go1.9.3"
  }
 },
 "nbformat": 4,
 "nbformat_minor": 2
}
