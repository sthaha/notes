{
 "cells": [
  {
   "cell_type": "code",
   "execution_count": 1,
   "metadata": {},
   "outputs": [],
   "source": [
    "import (\n",
    "    \"fmt\"\n",
    ")"
   ]
  },
  {
   "cell_type": "markdown",
   "metadata": {},
   "source": [
    "## Creating a slice"
   ]
  },
  {
   "cell_type": "code",
   "execution_count": 2,
   "metadata": {},
   "outputs": [],
   "source": [
    "numbers := []int {1, 3, 5}\n",
    "names := make([]string, 8)"
   ]
  },
  {
   "cell_type": "code",
   "execution_count": 3,
   "metadata": {},
   "outputs": [
    {
     "name": "stdout",
     "output_type": "stream",
     "text": [
      "[]string: [       ]\n",
      "[]int: [1 3 5]\n"
     ]
    },
    {
     "data": {
      "text/plain": [
       "15 <nil>"
      ]
     },
     "execution_count": 3,
     "metadata": {},
     "output_type": "execute_result"
    }
   ],
   "source": [
    "fmt.Printf(\"%T: %v\\n\", names, names)\n",
    "fmt.Printf(\"%T: %v\\n\", numbers, numbers)\n",
    "\n"
   ]
  },
  {
   "cell_type": "markdown",
   "metadata": {},
   "source": [
    "### Capacity and Length"
   ]
  },
  {
   "cell_type": "code",
   "execution_count": 4,
   "metadata": {},
   "outputs": [
    {
     "name": "stdout",
     "output_type": "stream",
     "text": [
      "Names slice make([]string, 10)\n",
      "  Len: 8\n",
      "  Capacity: 8\n",
      "\n",
      "\n",
      "Number slice ...\n",
      "  Len: 3\n",
      "  Capacity: 3\n"
     ]
    },
    {
     "data": {
      "text/plain": [
       "14 <nil>"
      ]
     },
     "execution_count": 4,
     "metadata": {},
     "output_type": "execute_result"
    }
   ],
   "source": [
    "fmt.Println(\"Names slice make([]string, 10)\")\n",
    "fmt.Println(\"  Len:\", len(names))\n",
    "fmt.Println(\"  Capacity:\", cap(names))\n",
    "\n",
    "fmt.Println(\"\\n\\nNumber slice ...\")\n",
    "fmt.Println(\"  Len:\", len(numbers))\n",
    "fmt.Println(\"  Capacity:\", cap(numbers))"
   ]
  },
  {
   "cell_type": "markdown",
   "metadata": {},
   "source": [
    "### indexing and assigning"
   ]
  },
  {
   "cell_type": "code",
   "execution_count": 5,
   "metadata": {},
   "outputs": [
    {
     "name": "stdout",
     "output_type": "stream",
     "text": [
      "[]string: [John       ]\n"
     ]
    },
    {
     "data": {
      "text/plain": [
       "24 <nil>"
      ]
     },
     "execution_count": 5,
     "metadata": {},
     "output_type": "execute_result"
    }
   ],
   "source": [
    "names[0] = \"John\"\n",
    "fmt.Printf(\"%T: %v\\n\", names, names)"
   ]
  },
  {
   "cell_type": "markdown",
   "metadata": {},
   "source": [
    "NOTE: `append` **returns a new slice**,  increases the `capacity` if the `len` is equal to `capacity`"
   ]
  },
  {
   "cell_type": "code",
   "execution_count": 6,
   "metadata": {
    "scrolled": true
   },
   "outputs": [],
   "source": [
    "names = append(names, \"foobar\")"
   ]
  },
  {
   "cell_type": "code",
   "execution_count": 7,
   "metadata": {},
   "outputs": [
    {
     "name": "stdout",
     "output_type": "stream",
     "text": [
      "Len: 9\n",
      "Capacity: 16\n"
     ]
    },
    {
     "data": {
      "text/plain": [
       "13 <nil>"
      ]
     },
     "execution_count": 7,
     "metadata": {},
     "output_type": "execute_result"
    }
   ],
   "source": [
    "fmt.Println(\"Len:\", len(names))\n",
    "fmt.Println(\"Capacity:\", cap(names))"
   ]
  },
  {
   "cell_type": "markdown",
   "metadata": {},
   "source": [
    "Append again and the `capacity` remains the same"
   ]
  },
  {
   "cell_type": "code",
   "execution_count": 8,
   "metadata": {},
   "outputs": [
    {
     "name": "stdout",
     "output_type": "stream",
     "text": [
      "Len: 10\n",
      "Capacity: 16\n"
     ]
    },
    {
     "data": {
      "text/plain": [
       "13 <nil>"
      ]
     },
     "execution_count": 8,
     "metadata": {},
     "output_type": "execute_result"
    }
   ],
   "source": [
    "names = append(names, \"foobar2\")\n",
    "fmt.Println(\"Len:\", len(names))\n",
    "fmt.Println(\"Capacity:\", cap(names))"
   ]
  },
  {
   "cell_type": "markdown",
   "metadata": {},
   "source": [
    "## Iteration"
   ]
  },
  {
   "cell_type": "code",
   "execution_count": null,
   "metadata": {},
   "outputs": [],
   "source": [
    "for index, value := range(numbers) {\n",
    "    fmt.Printf(\"%d: %d\\n\", index, value)\n",
    "}\n",
    "\n",
    "fmt.Println(\"Revese iteration - old C sytle\")\n",
    "\n",
    "for i := len(numbers) - 1; i >= 0; i-- {\n",
    "    fmt.Printf(\"%d: %d\\n\", i, numbers[i])\n",
    "}\n"
   ]
  },
  {
   "cell_type": "markdown",
   "metadata": {},
   "source": [
    "### Reversing a slice"
   ]
  },
  {
   "cell_type": "code",
   "execution_count": null,
   "metadata": {},
   "outputs": [],
   "source": [
    "func reverseInts(src []int) []int {\n",
    "    dst := make([]int, len(src))\n",
    "    \n",
    "    for s, d := len(src)-1, 0; s >= 0; s, d = s-1, d+1 {\n",
    "        dst[d] = src[s]\n",
    "    }\n",
    "    \n",
    "    return dst\n",
    "}\n",
    "\n",
    "original := []int{ 4, 2, 3, 2, 7 }\n",
    "fmt.Println(\"Reverse a slice\", original, \" -> \", reverseInts(original))\n"
   ]
  },
  {
   "cell_type": "markdown",
   "metadata": {},
   "source": [
    "## Tricks from Golang Wiki\n",
    "\n",
    "Found a nice list of slice trick on [`golang wiki`](https://github.com/golang/go/wiki/SliceTricks)\n",
    "\n",
    "So thought I should try out and document things that are not clear"
   ]
  },
  {
   "cell_type": "markdown",
   "metadata": {},
   "source": [
    "### append: a = a + b"
   ]
  },
  {
   "cell_type": "code",
   "execution_count": 15,
   "metadata": {},
   "outputs": [
    {
     "ename": "ERROR",
     "evalue": "reflect.Value.Convert: value of type []int cannot be converted to type int",
     "output_type": "error",
     "traceback": [
      "reflect.Value.Convert: value of type []int cannot be converted to type int"
     ]
    }
   ],
   "source": [
    "var a, b []int\n",
    "\n",
    "a = []int{1, 2, 3}\n",
    "b = []int{4, 5, 6}\n",
    "a = append(a, b...)\n",
    "\n",
    "fmt.Println(\"a:\", a)\n",
    "fmt.Println(\"b:\", b)\n"
   ]
  },
  {
   "cell_type": "markdown",
   "metadata": {},
   "source": [
    "### copy a -> b"
   ]
  },
  {
   "cell_type": "code",
   "execution_count": 18,
   "metadata": {},
   "outputs": [
    {
     "name": "stdout",
     "output_type": "stream",
     "text": [
      "a: [1 2 3]\n",
      "b: [1 2 3]\n"
     ]
    },
    {
     "data": {
      "text/plain": [
       "11 <nil>"
      ]
     },
     "execution_count": 18,
     "metadata": {},
     "output_type": "execute_result"
    }
   ],
   "source": [
    "b = make([]int, len(a))\n",
    "copy(b, a)\n",
    "\n",
    "fmt.Println(\"a:\", a)\n",
    "fmt.Println(\"b:\", b)\n"
   ]
  },
  {
   "cell_type": "markdown",
   "metadata": {},
   "source": [
    "#### copy: a -> b using append instead"
   ]
  },
  {
   "cell_type": "code",
   "execution_count": 19,
   "metadata": {},
   "outputs": [
    {
     "ename": "ERROR",
     "evalue": "reflect.Value.Convert: value of type []int cannot be converted to type int",
     "output_type": "error",
     "traceback": [
      "reflect.Value.Convert: value of type []int cannot be converted to type int"
     ]
    }
   ],
   "source": [
    "b = append([]int(nil), a...)\n",
    "\n",
    "fmt.Println(\"a:\", a)\n",
    "fmt.Println(\"b:\", b)\n"
   ]
  },
  {
   "cell_type": "markdown",
   "metadata": {},
   "source": []
  }
 ],
 "metadata": {
  "kernelspec": {
   "display_name": "Go",
   "language": "go",
   "name": "gophernotes"
  },
  "language_info": {
   "codemirror_mode": "",
   "file_extension": ".go",
   "mimetype": "",
   "name": "go",
   "nbconvert_exporter": "",
   "pygments_lexer": "",
   "version": "go1.9.3"
  }
 },
 "nbformat": 4,
 "nbformat_minor": 2
}
