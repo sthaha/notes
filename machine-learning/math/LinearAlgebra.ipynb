{
 "cells": [
  {
   "cell_type": "markdown",
   "metadata": {},
   "source": [
    "# Math\n",
    "\n",
    "Some essential math\n",
    "\n",
    "## Vectors\n",
    "\n",
    "Represented by a matrix `r` as:\n",
    "\n",
    "\\begin{equation*}\n",
    "r = \\begin{bmatrix} i \\\\ j \\end{bmatrix}\n",
    "\\end{equation*}\n",
    "\n",
    "The vector above has 2 components `i` and `j`. \n",
    "\n",
    "### Vector Operations\n",
    "\n",
    "\n",
    "#### Scalar Multiplication\n",
    "\n",
    "\\begin{equation*} \n",
    "A \\times r = A \\begin{bmatrix} r_i \\\\ r_j \\end{bmatrix} = \\begin{bmatrix} A \\times r_i \\\\ A \\times r_j \\end{bmatrix}\n",
    "\\end{equation*} \n",
    "\n",
    "\n",
    "**NOTE:** Reversing direction of Vector\n",
    "Is the same as $-1 \\times \\vec{\\mathbf{r}} $\n",
    "\n",
    "#### Addition to 2 vectors\n",
    "\n",
    "\n",
    "```         \n",
    "            x\n",
    "   x       /\n",
    "    \\     / r\n",
    "   s \\   /\n",
    "   \n",
    " r + s = \n",
    "       x\n",
    "       | \\ s\n",
    "  r+s  |   X \n",
    "       |  /\n",
    "       | / r\n",
    "       |/\n",
    "\n",
    "\n",
    "```\n",
    "\n",
    "\\begin{equation} \n",
    "r = \\begin{bmatrix} r_i \\\\ r_j \\end{bmatrix}\n",
    "s = \\begin{bmatrix} s_i \\\\ s_j \\end{bmatrix} \n",
    "\\end{equation}\n",
    "\n",
    "`r + s`  will be \n",
    "\n",
    "\\begin{equation} \n",
    "r + s = \\begin{bmatrix} r_i + s_i \\\\ r_j + s_j \\end{bmatrix}\n",
    "\\end{equation}\n",
    "\n",
    "which would be \n",
    "\\begin{equation*}\n",
    "\\mathbf{V}_1 \\times \\mathbf{V}_2 =  \\begin{vmatrix}\n",
    "\\mathbf{i} & \\mathbf{j} & \\mathbf{k} \\\\\n",
    "\\frac{\\partial X}{\\partial u} &  \\frac{\\partial Y}{\\partial u} & 0 \\\\\n",
    "\\frac{\\partial X}{\\partial v} &  \\frac{\\partial Y}{\\partial v} & 0\n",
    "\\end{vmatrix}\n",
    "\\end{equation*}\n",
    "\n"
   ]
  },
  {
   "cell_type": "code",
   "execution_count": 9,
   "metadata": {},
   "outputs": [
    {
     "data": {
      "image/png": "[encoded data removed]",
      "text/plain": [
       "<Figure size 432x288 with 1 Axes>"
      ]
     },
     "metadata": {},
     "output_type": "display_data"
    }
   ],
   "source": [
    "%matplotlib inline\n",
    "\n",
    "import numpy as np\n",
    "import matplotlib.pyplot as plt\n",
    "\n",
    "fig, ax = plt.subplots()\n",
    "x = np.linspace(0,1)\n",
    "ax.plot(x, x, 'o')\n",
    "\n",
    "ax.annotate('default line', xy=(0.15,0.1), xytext=(0.6,0.1),\n",
    "            arrowprops={'arrowstyle': '-'}, va='center')\n",
    "ax.annotate('dashed line', xy=(0.25,0.2), xytext=(0.6,0.2),\n",
    "            arrowprops={'arrowstyle': '-', 'ls': 'dashed'}, va='center')\n",
    "ax.annotate('default arrow', xy=(0.35,0.3), xytext=(0.6,0.3),\n",
    "            arrowprops={'arrowstyle': '->'}, va='center')\n",
    "ax.annotate('thick blue arrow', xy=(0.45,0.4), xytext=(0.6,0.4),\n",
    "            arrowprops={'arrowstyle': '->', 'lw': 4, 'color': 'blue'},\n",
    "            va='center')\n",
    "ax.annotate('double-headed arrow', xy=(0.45,0.5), xytext=(0.01,0.5),\n",
    "            arrowprops={'arrowstyle': '<->'}, va='center')\n",
    "ax.annotate('arrow with closed head', xy=(0.55,0.6), xytext=(0.1,0.6),\n",
    "            arrowprops={'arrowstyle': '-|>'}, va='center')\n",
    "ax.annotate('a really thick red arrow\\nwith not much space', xy=(0.65,0.7),\n",
    "            xytext=(0.1,0.7), va='center', multialignment='right',\n",
    "            arrowprops={'arrowstyle': '-|>', 'lw': 8, 'ec': 'r'})\n",
    "ax.annotate('a really thick red arrow\\nwith space between\\nthe tail and the'\n",
    "            'label', xy=(0.85,0.9), xytext=(0.1,0.9), va='center',\n",
    "            multialignment='right',\n",
    "            arrowprops={'arrowstyle': '-|>', 'lw': 8, 'ec': 'r', 'shrinkA': 10})\n",
    "\n",
    "plt.show()\n"
   ]
  },
  {
   "cell_type": "markdown",
   "metadata": {},
   "source": [
    "![cat](cat.jpg)"
   ]
  }
 ],
 "metadata": {
  "kernelspec": {
   "display_name": "Python 3",
   "language": "python",
   "name": "python3"
  },
  "language_info": {
   "codemirror_mode": {
    "name": "ipython",
    "version": 3
   },
   "file_extension": ".py",
   "mimetype": "text/x-python",
   "name": "python",
   "nbconvert_exporter": "python",
   "pygments_lexer": "ipython3",
   "version": "3.6.6"
  }
 },
 "nbformat": 4,
 "nbformat_minor": 2
}
