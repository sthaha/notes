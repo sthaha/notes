{
 "cells": [
  {
   "cell_type": "code",
   "execution_count": 6,
   "metadata": {},
   "outputs": [
    {
     "name": "stdout",
     "output_type": "stream",
     "text": [
      "Hello ..\n"
     ]
    },
    {
     "data": {
      "text/plain": [
       "Observable {\n",
       "  _isScalar: false,\n",
       "  source: \n",
       "   Observable {\n",
       "     _isScalar: false,\n",
       "     source: ArrayObservable { _isScalar: false, array: [Array], scheduler: null },\n",
       "     operator: MapOperator { project: [Function], thisArg: undefined } },\n",
       "  operator: MapOperator { project: [Function], thisArg: undefined } }"
      ]
     },
     "execution_count": 6,
     "metadata": {},
     "output_type": "execute_result"
    }
   ],
   "source": [
    "import { Observable } from 'rxjs/Observable';\n",
    "import 'rxjs/add/observable/of';\n",
    "import 'rxjs/add/operator/map';\n",
    " \n",
    "\n",
    "Observable.of(1,2,3)\n",
    "    .map(x => x + '!!!')\n",
    "    .map(x => console.log(\"...\", x));\n"
   ]
  }
 ],
 "metadata": {
  "kernelspec": {
   "display_name": "Typescript 2.7",
   "language": "typescript",
   "name": "typescript"
  },
  "language_info": {
   "file_extension": ".ts",
   "mimetype": "text/x-typescript",
   "name": "typescript",
   "version": "2.7.2"
  }
 },
 "nbformat": 4,
 "nbformat_minor": 2
}
