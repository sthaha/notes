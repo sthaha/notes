{
 "cells": [
  {
   "cell_type": "code",
   "execution_count": 3,
   "metadata": {},
   "outputs": [
    {
     "ename": "TypeError",
     "evalue": "Observable_1.Observable.just is not a function",
     "output_type": "error",
     "traceback": [
      "evalmachine.<anonymous>:3",
      "var o = Observable_1.Observable.just('https://api.github.com/users');",
      "                                ^",
      "",
      "TypeError: Observable_1.Observable.just is not a function",
      "    at evalmachine.<anonymous>:3:33",
      "    at ContextifyScript.Script.runInThisContext (vm.js:50:33)",
      "    at Object.runInThisContext (vm.js:139:38)",
      "    at run ([eval]:1002:15)",
      "    at onRunRequest ([eval]:829:18)",
      "    at onMessage ([eval]:789:13)",
      "    at emitTwo (events.js:126:13)",
      "    at process.emit (events.js:214:7)",
      "    at emit (internal/child_process.js:772:12)",
      "    at _combinedTickCallback (internal/process/next_tick.js:141:11)"
     ]
    }
   ],
   "source": [
    "import { Observable } from 'rxjs/Observable';\n",
    "import 'rxjs/add/observable/of';\n",
    "\n",
    "const rs = Observable.of('https://api.github.com/users');\n",
    "rs.subscribe(x => console.log(x))\n"
   ]
  }
 ],
 "metadata": {
  "kernelspec": {
   "display_name": "Typescript 2.7",
   "language": "typescript",
   "name": "typescript"
  },
  "language_info": {
   "file_extension": ".ts",
   "mimetype": "text/x-typescript",
   "name": "typescript",
   "version": "2.7.2"
  }
 },
 "nbformat": 4,
 "nbformat_minor": 2
}
